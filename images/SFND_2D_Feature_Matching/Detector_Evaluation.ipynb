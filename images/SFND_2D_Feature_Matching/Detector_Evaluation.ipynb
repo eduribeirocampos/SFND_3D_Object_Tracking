{
 "cells": [
  {
   "cell_type": "markdown",
   "id": "valid-campaign",
   "metadata": {},
   "source": [
    "# udacity - SFND - Camera Based 2D Feature Tracking  "
   ]
  },
  {
   "cell_type": "markdown",
   "id": "critical-custody",
   "metadata": {},
   "source": [
    "### Keypoints Detector evaluation"
   ]
  },
  {
   "cell_type": "code",
   "execution_count": 7,
   "id": "rubber-transfer",
   "metadata": {},
   "outputs": [
    {
     "data": {
      "text/html": [
       "<style>.container { width:100% !important; }</style>"
      ],
      "text/plain": [
       "<IPython.core.display.HTML object>"
      ]
     },
     "metadata": {},
     "output_type": "display_data"
    }
   ],
   "source": [
    "from IPython.core.display import display, HTML\n",
    "display(HTML(\"<style>.container { width:100% !important; }</style>\"))\n",
    "\n",
    "import pandas as pd\n",
    "import matplotlib.pyplot as plt\n",
    "%matplotlib inline\n",
    "import numpy as np\n",
    "from tabulate import tabulate"
   ]
  },
  {
   "cell_type": "code",
   "execution_count": 3,
   "id": "polyphonic-found",
   "metadata": {},
   "outputs": [],
   "source": [
    "## Importing report file.\n",
    "df_detector_raw = pd.read_csv('210319_output/Detector_report.txt', sep=',',names=[\"Detector\",\"image\",\"keypoints\",\"time\",\"pc\",\"nhs\"])"
   ]
  },
  {
   "cell_type": "code",
   "execution_count": 4,
   "id": "aging-princeton",
   "metadata": {},
   "outputs": [
    {
     "data": {
      "text/html": [
       "<div>\n",
       "<style scoped>\n",
       "    .dataframe tbody tr th:only-of-type {\n",
       "        vertical-align: middle;\n",
       "    }\n",
       "\n",
       "    .dataframe tbody tr th {\n",
       "        vertical-align: top;\n",
       "    }\n",
       "\n",
       "    .dataframe thead th {\n",
       "        text-align: right;\n",
       "    }\n",
       "</style>\n",
       "<table border=\"1\" class=\"dataframe\">\n",
       "  <thead>\n",
       "    <tr style=\"text-align: right;\">\n",
       "      <th></th>\n",
       "      <th>Detector</th>\n",
       "      <th>image</th>\n",
       "      <th>keypoints</th>\n",
       "      <th>time</th>\n",
       "      <th>pc</th>\n",
       "      <th>nhs</th>\n",
       "    </tr>\n",
       "  </thead>\n",
       "  <tbody>\n",
       "    <tr>\n",
       "      <th>0</th>\n",
       "      <td>SHITOMASI</td>\n",
       "      <td>1</td>\n",
       "      <td>1370</td>\n",
       "      <td>45.5081</td>\n",
       "      <td>125</td>\n",
       "      <td>4.0</td>\n",
       "    </tr>\n",
       "    <tr>\n",
       "      <th>1</th>\n",
       "      <td>SHITOMASI</td>\n",
       "      <td>2</td>\n",
       "      <td>1301</td>\n",
       "      <td>21.3494</td>\n",
       "      <td>118</td>\n",
       "      <td>4.0</td>\n",
       "    </tr>\n",
       "    <tr>\n",
       "      <th>2</th>\n",
       "      <td>SHITOMASI</td>\n",
       "      <td>3</td>\n",
       "      <td>1361</td>\n",
       "      <td>18.7879</td>\n",
       "      <td>123</td>\n",
       "      <td>4.0</td>\n",
       "    </tr>\n",
       "  </tbody>\n",
       "</table>\n",
       "</div>"
      ],
      "text/plain": [
       "    Detector  image  keypoints     time   pc  nhs\n",
       "0  SHITOMASI      1       1370  45.5081  125  4.0\n",
       "1  SHITOMASI      2       1301  21.3494  118  4.0\n",
       "2  SHITOMASI      3       1361  18.7879  123  4.0"
      ]
     },
     "execution_count": 4,
     "metadata": {},
     "output_type": "execute_result"
    }
   ],
   "source": [
    "## Ploting Dataframe to check convertion.\n",
    "df_detector_raw.head(3)\n"
   ]
  },
  {
   "cell_type": "code",
   "execution_count": null,
   "id": "floppy-banner",
   "metadata": {},
   "outputs": [],
   "source": []
  },
  {
   "cell_type": "code",
   "execution_count": 5,
   "id": "canadian-department",
   "metadata": {},
   "outputs": [
    {
     "name": "stdout",
     "output_type": "stream",
     "text": [
      "| Detector   |  keypoints  |  time   |  pc  |  nhs  |\n",
      "|:-----------|:-----------:|:-------:|:----:|:-----:|\n",
      "| AKAZE      |    1342     | 129.023 | 167  |   7   |\n",
      "| BRISK      |    2711     | 48.5482 | 276  |  21   |\n",
      "| FAST       |    1787     | 1.05449 | 149  |   7   |\n",
      "| HARRIS     |     173     | 19.6915 |  24  |   6   |\n",
      "| ORB        |     500     | 8.49676 | 116  |  56   |\n",
      "| SHITOMASI  |    1342     | 21.8832 | 117  |   4   |\n",
      "| SIFT       |    1386     | 179.739 | 138  |   5   |\n"
     ]
    }
   ],
   "source": [
    "## Summary table considering the mean of keypoints and elapsedtime [ms]\n",
    "\n",
    "detector_group = df_detector_raw.groupby(\"Detector\")[\"keypoints\", \"time\",\"pc\",\"nhs\"].mean()\n",
    "detector_group[\"keypoints\"] = detector_group[\"keypoints\"].astype(int)\n",
    "detector_group[\"pc\"] = detector_group[\"pc\"].astype(int)\n",
    "detector_group[\"nhs\"] = detector_group[\"nhs\"].astype(int)\n",
    "\n",
    "print(tabulate(detector_group, tablefmt=\"pipe\", headers=\"keys\",numalign=\"center\"))"
   ]
  },
  {
   "cell_type": "code",
   "execution_count": 6,
   "id": "posted-breast",
   "metadata": {},
   "outputs": [
    {
     "data": {
      "image/png": "[encoded data removed]",
      "text/plain": [
       "<matplotlib.figure.Figure at 0x7f7ca8bcf8>"
      ]
     },
     "metadata": {
      "needs_background": "light"
     },
     "output_type": "display_data"
    }
   ],
   "source": [
    "##Scatter Plotting to show the distribution points over all detectors types evaluated\n",
    "\n",
    "fig, ax = plt.subplots(figsize=(16,6))\n",
    "colors = ['b','g', 'r','c','m','y','grey']\n",
    "markers = ['P','v', 's','p','d','X',\"1\"]\n",
    "counter = 0\n",
    "for key, grp in df_detector_raw.groupby(['Detector']):\n",
    "    ax.scatter(grp[\"pc\"], grp[\"time\"], label=key ,color= colors[counter],marker= markers[counter])\n",
    "    counter += 1\n",
    "\n",
    "ax.legend()\n",
    "ax.set_xlabel('Keypoints Detected on preceding vehicle',fontsize=15)\n",
    "ax.set_ylabel('time elapsed', fontsize=15)\n",
    "ax.set_title('Comparison of Keypoins detected on the preceding vehicle and elapsed time for each Detector type')\n",
    "\n",
    "plt.savefig('images/Detector_evaluation.png')\n",
    "plt.show()"
   ]
  },
  {
   "cell_type": "markdown",
   "id": "interracial-romance",
   "metadata": {},
   "source": [
    "## Conclusion"
   ]
  },
  {
   "cell_type": "markdown",
   "id": "stretch-blame",
   "metadata": {},
   "source": [
    "The BRISK feature detect a higher number of the Keypoints in a short elapsed time. the FAST feature shows capable to be fast and detect a good number of keypoints comparing with the others features."
   ]
  }
 ],
 "metadata": {
  "kernelspec": {
   "display_name": "Python 3",
   "language": "python",
   "name": "python3"
  },
  "language_info": {
   "codemirror_mode": {
    "name": "ipython",
    "version": 3
   },
   "file_extension": ".py",
   "mimetype": "text/x-python",
   "name": "python",
   "nbconvert_exporter": "python",
   "pygments_lexer": "ipython3",
   "version": "3.6.9"
  }
 },
 "nbformat": 4,
 "nbformat_minor": 5
}
