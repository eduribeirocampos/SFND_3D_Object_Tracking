{
 "cells": [
  {
   "cell_type": "code",
   "execution_count": null,
   "id": "framed-teach",
   "metadata": {},
   "outputs": [],
   "source": [
    "import glob\n",
    "from PIL import Image\n",
    "\n",
    "# filepaths\n",
    "fp_in = '../210319_output/Detector/FAST/*.jpg'\n",
    "fp_out = \"Detector_FAST.gif\"\n",
    "\n",
    "# https://pillow.readthedocs.io/en/stable/handbook/image-file-formats.html#gif\n",
    "img, *imgs = [Image.open(f) for f in sorted(glob.glob(fp_in))]\n",
    "img.save(fp=fp_out, format='GIF', append_images=imgs,\n",
    "         save_all=True, duration=200, loop=0)"
   ]
  },
  {
   "cell_type": "code",
   "execution_count": null,
   "id": "annual-minister",
   "metadata": {},
   "outputs": [],
   "source": [
    "# filepaths\n",
    "fp_in = '../210319_output/Detector_Descriptor/Det_FAST/Det_FAST_Desc_BRIEF/*.jpg'\n",
    "fp_out = \"Detector_FAST_Descriptor_BRIEF.gif\"\n",
    "\n",
    "\n",
    "# https://pillow.readthedocs.io/en/stable/handbook/image-file-formats.html#gif\n",
    "img, *imgs = [Image.open(f) for f in sorted(glob.glob(fp_in))]\n",
    "img.save(fp=fp_out, format='GIF', append_images=imgs,\n",
    "         save_all=True, duration=200, loop=0)"
   ]
  },
  {
   "cell_type": "code",
   "execution_count": 14,
   "id": "empirical-compromise",
   "metadata": {},
   "outputs": [],
   "source": [
    "# filepaths\n",
    "fp_in = '../210319_output/Matching_Descriptors/Det_FAST/Det_FAST_Desc_BRIEF/*.jpg'\n",
    "fp_out = \"Mathing_Detector_FAST_Descriptor_BRIEF.gif\"\n",
    "\n",
    "# https://pillow.readthedocs.io/en/stable/handbook/image-file-formats.html#gif\n",
    "img, *imgs = [Image.open(f) for f in sorted(glob.glob(fp_in))]\n",
    "img.save(fp=fp_out, format='GIF', append_images=imgs,\n",
    "         save_all=True, duration=200, loop=0)"
   ]
  },
  {
   "cell_type": "code",
   "execution_count": null,
   "id": "north-recall",
   "metadata": {},
   "outputs": [],
   "source": []
  }
 ],
 "metadata": {
  "kernelspec": {
   "display_name": "Python 3",
   "language": "python",
   "name": "python3"
  },
  "language_info": {
   "codemirror_mode": {
    "name": "ipython",
    "version": 3
   },
   "file_extension": ".py",
   "mimetype": "text/x-python",
   "name": "python",
   "nbconvert_exporter": "python",
   "pygments_lexer": "ipython3",
   "version": "3.6.9"
  }
 },
 "nbformat": 4,
 "nbformat_minor": 5
}
