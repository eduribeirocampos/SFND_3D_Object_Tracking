{
 "cells": [
  {
   "cell_type": "markdown",
   "id": "valid-campaign",
   "metadata": {},
   "source": [
    "# udacity - SFND - Camera Based 2D Feature Tracking  "
   ]
  },
  {
   "cell_type": "markdown",
   "id": "critical-custody",
   "metadata": {},
   "source": [
    "### Keypoints Descriptor Mathing evaluation"
   ]
  },
  {
   "cell_type": "markdown",
   "id": "trying-michael",
   "metadata": {},
   "source": [
    "In this evaluation the area on the preceding vehicle was already filtered."
   ]
  },
  {
   "cell_type": "code",
   "execution_count": 16,
   "id": "rubber-transfer",
   "metadata": {},
   "outputs": [
    {
     "data": {
      "text/html": [
       "<style>.container { width:100% !important; }</style>"
      ],
      "text/plain": [
       "<IPython.core.display.HTML object>"
      ]
     },
     "metadata": {},
     "output_type": "display_data"
    }
   ],
   "source": [
    "from IPython.core.display import display, HTML\n",
    "display(HTML(\"<style>.container { width:100% !important; }</style>\"))\n",
    "\n",
    "import pandas as pd\n",
    "import matplotlib.pyplot as plt\n",
    "%matplotlib inline\n",
    "import numpy as np\n",
    "from tabulate import tabulate"
   ]
  },
  {
   "cell_type": "markdown",
   "id": "ignored-workplace",
   "metadata": {},
   "source": [
    "In this final evaluation , it is necessary aggregate the time of the 2 previous step Detector and descriptor"
   ]
  },
  {
   "cell_type": "code",
   "execution_count": 2,
   "id": "stupid-temperature",
   "metadata": {},
   "outputs": [],
   "source": [
    "## Importing report file.\n",
    "df_detector_raw = pd.read_csv('210319_output/Detector_report.txt', sep=',',names=[\"Detector\",\"image\",\"keypoints\",\"time\",\"pc\",\"nhs\"])"
   ]
  },
  {
   "cell_type": "code",
   "execution_count": 3,
   "id": "elder-cleaners",
   "metadata": {},
   "outputs": [
    {
     "data": {
      "text/html": [
       "<div>\n",
       "<style scoped>\n",
       "    .dataframe tbody tr th:only-of-type {\n",
       "        vertical-align: middle;\n",
       "    }\n",
       "\n",
       "    .dataframe tbody tr th {\n",
       "        vertical-align: top;\n",
       "    }\n",
       "\n",
       "    .dataframe thead th {\n",
       "        text-align: right;\n",
       "    }\n",
       "</style>\n",
       "<table border=\"1\" class=\"dataframe\">\n",
       "  <thead>\n",
       "    <tr style=\"text-align: right;\">\n",
       "      <th></th>\n",
       "      <th>Detector</th>\n",
       "      <th>image</th>\n",
       "      <th>keypoints</th>\n",
       "      <th>time</th>\n",
       "      <th>pc</th>\n",
       "      <th>nhs</th>\n",
       "    </tr>\n",
       "  </thead>\n",
       "  <tbody>\n",
       "    <tr>\n",
       "      <th>0</th>\n",
       "      <td>SHITOMASI</td>\n",
       "      <td>1</td>\n",
       "      <td>1370</td>\n",
       "      <td>45.5081</td>\n",
       "      <td>125</td>\n",
       "      <td>4.0</td>\n",
       "    </tr>\n",
       "    <tr>\n",
       "      <th>1</th>\n",
       "      <td>SHITOMASI</td>\n",
       "      <td>2</td>\n",
       "      <td>1301</td>\n",
       "      <td>21.3494</td>\n",
       "      <td>118</td>\n",
       "      <td>4.0</td>\n",
       "    </tr>\n",
       "  </tbody>\n",
       "</table>\n",
       "</div>"
      ],
      "text/plain": [
       "    Detector  image  keypoints     time   pc  nhs\n",
       "0  SHITOMASI      1       1370  45.5081  125  4.0\n",
       "1  SHITOMASI      2       1301  21.3494  118  4.0"
      ]
     },
     "execution_count": 3,
     "metadata": {},
     "output_type": "execute_result"
    }
   ],
   "source": [
    "df_detector_raw.head(2)"
   ]
  },
  {
   "cell_type": "code",
   "execution_count": 4,
   "id": "bizarre-update",
   "metadata": {},
   "outputs": [],
   "source": [
    "## Importing report file.\n",
    "df_matching_raw = pd.read_csv('210319_output/Matching_Descriptors_report.txt', sep=',',names=[\"Detector\",\"Descriptor\",\"images\",\"Matched\",\"time\",\"removed\"])"
   ]
  },
  {
   "cell_type": "code",
   "execution_count": 5,
   "id": "scientific-involvement",
   "metadata": {},
   "outputs": [
    {
     "data": {
      "text/html": [
       "<div>\n",
       "<style scoped>\n",
       "    .dataframe tbody tr th:only-of-type {\n",
       "        vertical-align: middle;\n",
       "    }\n",
       "\n",
       "    .dataframe tbody tr th {\n",
       "        vertical-align: top;\n",
       "    }\n",
       "\n",
       "    .dataframe thead th {\n",
       "        text-align: right;\n",
       "    }\n",
       "</style>\n",
       "<table border=\"1\" class=\"dataframe\">\n",
       "  <thead>\n",
       "    <tr style=\"text-align: right;\">\n",
       "      <th></th>\n",
       "      <th>Detector</th>\n",
       "      <th>Descriptor</th>\n",
       "      <th>images</th>\n",
       "      <th>Matched</th>\n",
       "      <th>time</th>\n",
       "      <th>removed</th>\n",
       "    </tr>\n",
       "  </thead>\n",
       "  <tbody>\n",
       "    <tr>\n",
       "      <th>0</th>\n",
       "      <td>SHITOMASI</td>\n",
       "      <td>BRISK</td>\n",
       "      <td>2</td>\n",
       "      <td>95</td>\n",
       "      <td>0.501220</td>\n",
       "      <td>30</td>\n",
       "    </tr>\n",
       "    <tr>\n",
       "      <th>1</th>\n",
       "      <td>SHITOMASI</td>\n",
       "      <td>BRISK</td>\n",
       "      <td>3</td>\n",
       "      <td>88</td>\n",
       "      <td>0.510349</td>\n",
       "      <td>30</td>\n",
       "    </tr>\n",
       "  </tbody>\n",
       "</table>\n",
       "</div>"
      ],
      "text/plain": [
       "    Detector Descriptor  images  Matched      time  removed\n",
       "0  SHITOMASI      BRISK       2       95  0.501220       30\n",
       "1  SHITOMASI      BRISK       3       88  0.510349       30"
      ]
     },
     "execution_count": 5,
     "metadata": {},
     "output_type": "execute_result"
    }
   ],
   "source": [
    "df_matching_raw.head(2)"
   ]
  },
  {
   "cell_type": "code",
   "execution_count": 6,
   "id": "combined-birth",
   "metadata": {},
   "outputs": [],
   "source": [
    "for i, row in df_detector_raw.iterrows(): \n",
    "    detect = df_detector_raw.loc[i,\"Detector\"]\n",
    "    detc_time = df_detector_raw.loc[i,\"time\"]\n",
    "    detc_img = df_detector_raw.loc[i,\"image\"]\n",
    "    for j, row in df_matching_raw.iterrows(): \n",
    "        if df_matching_raw.loc[j,\"Detector\"]== detect and df_matching_raw.loc[j,\"images\"]== detc_img:\n",
    "            df_matching_raw.loc[j,\"time\"]= df_matching_raw.loc[j,\"time\"]+detc_time"
   ]
  },
  {
   "cell_type": "code",
   "execution_count": 7,
   "id": "basic-example",
   "metadata": {},
   "outputs": [
    {
     "data": {
      "text/html": [
       "<div>\n",
       "<style scoped>\n",
       "    .dataframe tbody tr th:only-of-type {\n",
       "        vertical-align: middle;\n",
       "    }\n",
       "\n",
       "    .dataframe tbody tr th {\n",
       "        vertical-align: top;\n",
       "    }\n",
       "\n",
       "    .dataframe thead th {\n",
       "        text-align: right;\n",
       "    }\n",
       "</style>\n",
       "<table border=\"1\" class=\"dataframe\">\n",
       "  <thead>\n",
       "    <tr style=\"text-align: right;\">\n",
       "      <th></th>\n",
       "      <th>Detector</th>\n",
       "      <th>Descriptor</th>\n",
       "      <th>images</th>\n",
       "      <th>Matched</th>\n",
       "      <th>time</th>\n",
       "      <th>removed</th>\n",
       "    </tr>\n",
       "  </thead>\n",
       "  <tbody>\n",
       "    <tr>\n",
       "      <th>0</th>\n",
       "      <td>SHITOMASI</td>\n",
       "      <td>BRISK</td>\n",
       "      <td>2</td>\n",
       "      <td>95</td>\n",
       "      <td>21.850620</td>\n",
       "      <td>30</td>\n",
       "    </tr>\n",
       "    <tr>\n",
       "      <th>1</th>\n",
       "      <td>SHITOMASI</td>\n",
       "      <td>BRISK</td>\n",
       "      <td>3</td>\n",
       "      <td>88</td>\n",
       "      <td>19.298249</td>\n",
       "      <td>30</td>\n",
       "    </tr>\n",
       "    <tr>\n",
       "      <th>2</th>\n",
       "      <td>SHITOMASI</td>\n",
       "      <td>BRISK</td>\n",
       "      <td>4</td>\n",
       "      <td>80</td>\n",
       "      <td>20.679615</td>\n",
       "      <td>43</td>\n",
       "    </tr>\n",
       "  </tbody>\n",
       "</table>\n",
       "</div>"
      ],
      "text/plain": [
       "    Detector Descriptor  images  Matched       time  removed\n",
       "0  SHITOMASI      BRISK       2       95  21.850620       30\n",
       "1  SHITOMASI      BRISK       3       88  19.298249       30\n",
       "2  SHITOMASI      BRISK       4       80  20.679615       43"
      ]
     },
     "execution_count": 7,
     "metadata": {},
     "output_type": "execute_result"
    }
   ],
   "source": [
    "df_matching_raw.head(3)"
   ]
  },
  {
   "cell_type": "code",
   "execution_count": 8,
   "id": "actual-cleanup",
   "metadata": {},
   "outputs": [],
   "source": [
    "## Importing report file.\n",
    "df_descriptor_raw = pd.read_csv('210319_output/Descriptor_report.txt', sep=',',names=[\"Detector\",\"Descriptor\",\"image\",\"keypoints\",\"time\"])"
   ]
  },
  {
   "cell_type": "code",
   "execution_count": 9,
   "id": "ordinary-steps",
   "metadata": {},
   "outputs": [
    {
     "data": {
      "text/html": [
       "<div>\n",
       "<style scoped>\n",
       "    .dataframe tbody tr th:only-of-type {\n",
       "        vertical-align: middle;\n",
       "    }\n",
       "\n",
       "    .dataframe tbody tr th {\n",
       "        vertical-align: top;\n",
       "    }\n",
       "\n",
       "    .dataframe thead th {\n",
       "        text-align: right;\n",
       "    }\n",
       "</style>\n",
       "<table border=\"1\" class=\"dataframe\">\n",
       "  <thead>\n",
       "    <tr style=\"text-align: right;\">\n",
       "      <th></th>\n",
       "      <th>Detector</th>\n",
       "      <th>Descriptor</th>\n",
       "      <th>image</th>\n",
       "      <th>keypoints</th>\n",
       "      <th>time</th>\n",
       "    </tr>\n",
       "  </thead>\n",
       "  <tbody>\n",
       "    <tr>\n",
       "      <th>0</th>\n",
       "      <td>SHITOMASI</td>\n",
       "      <td>BRISK</td>\n",
       "      <td>1</td>\n",
       "      <td>125</td>\n",
       "      <td>1.90653</td>\n",
       "    </tr>\n",
       "    <tr>\n",
       "      <th>1</th>\n",
       "      <td>SHITOMASI</td>\n",
       "      <td>BRISK</td>\n",
       "      <td>2</td>\n",
       "      <td>118</td>\n",
       "      <td>1.67109</td>\n",
       "    </tr>\n",
       "  </tbody>\n",
       "</table>\n",
       "</div>"
      ],
      "text/plain": [
       "    Detector Descriptor  image  keypoints     time\n",
       "0  SHITOMASI      BRISK      1        125  1.90653\n",
       "1  SHITOMASI      BRISK      2        118  1.67109"
      ]
     },
     "execution_count": 9,
     "metadata": {},
     "output_type": "execute_result"
    }
   ],
   "source": [
    "df_descriptor_raw.head(2)"
   ]
  },
  {
   "cell_type": "code",
   "execution_count": 10,
   "id": "mental-trace",
   "metadata": {},
   "outputs": [],
   "source": [
    "for i, row in df_descriptor_raw.iterrows(): \n",
    "    detect = df_descriptor_raw.loc[i,\"Detector\"]\n",
    "    desc = df_descriptor_raw.loc[i,\"Descriptor\"]\n",
    "    desc_time = df_descriptor_raw.loc[i,\"time\"]\n",
    "    desc_img = df_descriptor_raw.loc[i,\"image\"]\n",
    "    for j, row in df_matching_raw.iterrows(): \n",
    "        if df_matching_raw.loc[j,\"Detector\"]== detect:\n",
    "            if df_matching_raw.loc[j,\"Descriptor\"]== desc:\n",
    "                if df_matching_raw.loc[j,\"images\"] == desc_img:\n",
    "                    df_matching_raw.loc[j,\"time\"]= df_matching_raw.loc[j,\"time\"]+desc_time"
   ]
  },
  {
   "cell_type": "code",
   "execution_count": 11,
   "id": "increasing-referral",
   "metadata": {},
   "outputs": [
    {
     "data": {
      "text/html": [
       "<div>\n",
       "<style scoped>\n",
       "    .dataframe tbody tr th:only-of-type {\n",
       "        vertical-align: middle;\n",
       "    }\n",
       "\n",
       "    .dataframe tbody tr th {\n",
       "        vertical-align: top;\n",
       "    }\n",
       "\n",
       "    .dataframe thead th {\n",
       "        text-align: right;\n",
       "    }\n",
       "</style>\n",
       "<table border=\"1\" class=\"dataframe\">\n",
       "  <thead>\n",
       "    <tr style=\"text-align: right;\">\n",
       "      <th></th>\n",
       "      <th>Detector</th>\n",
       "      <th>Descriptor</th>\n",
       "      <th>images</th>\n",
       "      <th>Matched</th>\n",
       "      <th>time</th>\n",
       "      <th>removed</th>\n",
       "    </tr>\n",
       "  </thead>\n",
       "  <tbody>\n",
       "    <tr>\n",
       "      <th>0</th>\n",
       "      <td>SHITOMASI</td>\n",
       "      <td>BRISK</td>\n",
       "      <td>2</td>\n",
       "      <td>95</td>\n",
       "      <td>23.521710</td>\n",
       "      <td>30</td>\n",
       "    </tr>\n",
       "    <tr>\n",
       "      <th>1</th>\n",
       "      <td>SHITOMASI</td>\n",
       "      <td>BRISK</td>\n",
       "      <td>3</td>\n",
       "      <td>88</td>\n",
       "      <td>21.077989</td>\n",
       "      <td>30</td>\n",
       "    </tr>\n",
       "    <tr>\n",
       "      <th>2</th>\n",
       "      <td>SHITOMASI</td>\n",
       "      <td>BRISK</td>\n",
       "      <td>4</td>\n",
       "      <td>80</td>\n",
       "      <td>22.424225</td>\n",
       "      <td>43</td>\n",
       "    </tr>\n",
       "  </tbody>\n",
       "</table>\n",
       "</div>"
      ],
      "text/plain": [
       "    Detector Descriptor  images  Matched       time  removed\n",
       "0  SHITOMASI      BRISK       2       95  23.521710       30\n",
       "1  SHITOMASI      BRISK       3       88  21.077989       30\n",
       "2  SHITOMASI      BRISK       4       80  22.424225       43"
      ]
     },
     "execution_count": 11,
     "metadata": {},
     "output_type": "execute_result"
    }
   ],
   "source": [
    "## Ploting Dataframe to check convertion.\n",
    "df_matching_raw[\"Matched\"] = df_matching_raw[\"Matched\"].astype(int)\n",
    "df_matching_raw.head(3)"
   ]
  },
  {
   "cell_type": "markdown",
   "id": "endless-booth",
   "metadata": {},
   "source": [
    "## !! Now we have the aggregated total time to be considered !!"
   ]
  },
  {
   "cell_type": "code",
   "execution_count": 12,
   "id": "controversial-roman",
   "metadata": {},
   "outputs": [
    {
     "data": {
      "text/html": [
       "<div>\n",
       "<style scoped>\n",
       "    .dataframe tbody tr th:only-of-type {\n",
       "        vertical-align: middle;\n",
       "    }\n",
       "\n",
       "    .dataframe tbody tr th {\n",
       "        vertical-align: top;\n",
       "    }\n",
       "\n",
       "    .dataframe thead th {\n",
       "        text-align: right;\n",
       "    }\n",
       "</style>\n",
       "<table border=\"1\" class=\"dataframe\">\n",
       "  <thead>\n",
       "    <tr style=\"text-align: right;\">\n",
       "      <th></th>\n",
       "      <th></th>\n",
       "      <th>Matched</th>\n",
       "      <th>time</th>\n",
       "    </tr>\n",
       "    <tr>\n",
       "      <th>Detector</th>\n",
       "      <th>Descriptor</th>\n",
       "      <th></th>\n",
       "      <th></th>\n",
       "    </tr>\n",
       "  </thead>\n",
       "  <tbody>\n",
       "    <tr>\n",
       "      <th rowspan=\"6\" valign=\"top\">AKAZE</th>\n",
       "      <th>AKAZE</th>\n",
       "      <td>139</td>\n",
       "      <td>236.069263</td>\n",
       "    </tr>\n",
       "    <tr>\n",
       "      <th>BRIEF</th>\n",
       "      <td>140</td>\n",
       "      <td>130.100787</td>\n",
       "    </tr>\n",
       "    <tr>\n",
       "      <th>BRISK</th>\n",
       "      <td>135</td>\n",
       "      <td>131.945050</td>\n",
       "    </tr>\n",
       "    <tr>\n",
       "      <th>FREAK</th>\n",
       "      <td>131</td>\n",
       "      <td>182.407433</td>\n",
       "    </tr>\n",
       "    <tr>\n",
       "      <th>ORB</th>\n",
       "      <td>131</td>\n",
       "      <td>132.111547</td>\n",
       "    </tr>\n",
       "    <tr>\n",
       "      <th>SIFT</th>\n",
       "      <td>141</td>\n",
       "      <td>174.808435</td>\n",
       "    </tr>\n",
       "    <tr>\n",
       "      <th rowspan=\"4\" valign=\"top\">BRISK</th>\n",
       "      <th>BRIEF</th>\n",
       "      <td>189</td>\n",
       "      <td>51.236136</td>\n",
       "    </tr>\n",
       "    <tr>\n",
       "      <th>BRISK</th>\n",
       "      <td>174</td>\n",
       "      <td>53.770421</td>\n",
       "    </tr>\n",
       "    <tr>\n",
       "      <th>FREAK</th>\n",
       "      <td>169</td>\n",
       "      <td>101.148829</td>\n",
       "    </tr>\n",
       "    <tr>\n",
       "      <th>ORB</th>\n",
       "      <td>168</td>\n",
       "      <td>54.981488</td>\n",
       "    </tr>\n",
       "  </tbody>\n",
       "</table>\n",
       "</div>"
      ],
      "text/plain": [
       "                     Matched        time\n",
       "Detector Descriptor                     \n",
       "AKAZE    AKAZE           139  236.069263\n",
       "         BRIEF           140  130.100787\n",
       "         BRISK           135  131.945050\n",
       "         FREAK           131  182.407433\n",
       "         ORB             131  132.111547\n",
       "         SIFT            141  174.808435\n",
       "BRISK    BRIEF           189   51.236136\n",
       "         BRISK           174   53.770421\n",
       "         FREAK           169  101.148829\n",
       "         ORB             168   54.981488"
      ]
     },
     "execution_count": 12,
     "metadata": {},
     "output_type": "execute_result"
    }
   ],
   "source": [
    "## Summary table considering the mean of keypoints and elapsedtime [ms].\n",
    "## For each combination of Detectors and Descriptors.\n",
    "\n",
    "matching_group = df_matching_raw.groupby([\"Detector\",\"Descriptor\"])[\"Matched\", \"time\"].mean()\n",
    "matching_group[\"Matched\"] = matching_group[\"Matched\"].astype(int)\n",
    "matching_group.head(10)"
   ]
  },
  {
   "cell_type": "code",
   "execution_count": 13,
   "id": "chronic-termination",
   "metadata": {},
   "outputs": [
    {
     "data": {
      "text/html": [
       "<div>\n",
       "<style scoped>\n",
       "    .dataframe tbody tr th:only-of-type {\n",
       "        vertical-align: middle;\n",
       "    }\n",
       "\n",
       "    .dataframe tbody tr th {\n",
       "        vertical-align: top;\n",
       "    }\n",
       "\n",
       "    .dataframe thead th {\n",
       "        text-align: right;\n",
       "    }\n",
       "</style>\n",
       "<table border=\"1\" class=\"dataframe\">\n",
       "  <thead>\n",
       "    <tr style=\"text-align: right;\">\n",
       "      <th></th>\n",
       "      <th>Detector</th>\n",
       "      <th>Descriptor</th>\n",
       "      <th>images</th>\n",
       "      <th>Matched</th>\n",
       "      <th>time</th>\n",
       "      <th>removed</th>\n",
       "    </tr>\n",
       "  </thead>\n",
       "  <tbody>\n",
       "    <tr>\n",
       "      <th>225</th>\n",
       "      <td>AKAZE</td>\n",
       "      <td>BRISK</td>\n",
       "      <td>2</td>\n",
       "      <td>137</td>\n",
       "      <td>132.028039</td>\n",
       "      <td>29</td>\n",
       "    </tr>\n",
       "    <tr>\n",
       "      <th>226</th>\n",
       "      <td>AKAZE</td>\n",
       "      <td>BRISK</td>\n",
       "      <td>3</td>\n",
       "      <td>125</td>\n",
       "      <td>130.574984</td>\n",
       "      <td>32</td>\n",
       "    </tr>\n",
       "    <tr>\n",
       "      <th>227</th>\n",
       "      <td>AKAZE</td>\n",
       "      <td>BRISK</td>\n",
       "      <td>4</td>\n",
       "      <td>129</td>\n",
       "      <td>136.988600</td>\n",
       "      <td>32</td>\n",
       "    </tr>\n",
       "    <tr>\n",
       "      <th>228</th>\n",
       "      <td>AKAZE</td>\n",
       "      <td>BRISK</td>\n",
       "      <td>5</td>\n",
       "      <td>129</td>\n",
       "      <td>133.393726</td>\n",
       "      <td>26</td>\n",
       "    </tr>\n",
       "    <tr>\n",
       "      <th>229</th>\n",
       "      <td>AKAZE</td>\n",
       "      <td>BRISK</td>\n",
       "      <td>6</td>\n",
       "      <td>131</td>\n",
       "      <td>130.821223</td>\n",
       "      <td>32</td>\n",
       "    </tr>\n",
       "  </tbody>\n",
       "</table>\n",
       "</div>"
      ],
      "text/plain": [
       "    Detector Descriptor  images  Matched        time  removed\n",
       "225    AKAZE      BRISK       2      137  132.028039       29\n",
       "226    AKAZE      BRISK       3      125  130.574984       32\n",
       "227    AKAZE      BRISK       4      129  136.988600       32\n",
       "228    AKAZE      BRISK       5      129  133.393726       26\n",
       "229    AKAZE      BRISK       6      131  130.821223       32"
      ]
     },
     "execution_count": 13,
     "metadata": {},
     "output_type": "execute_result"
    }
   ],
   "source": [
    "## In order to make easie the visualisation, lets split de Dataframe for each \n",
    "#Detector dataset to check the results for the combination of the descriptors features.\n",
    "matchAKAZE = df_matching_raw[df_matching_raw['Detector'] == \"AKAZE\"]\n",
    "matchBRISK = df_matching_raw[df_matching_raw['Detector'] == \"BRISK\"]\n",
    "matchFAST = df_matching_raw[df_matching_raw['Detector'] == \"FAST\"]\n",
    "matchHARRIS = df_matching_raw[df_matching_raw['Detector'] == \"HARRIS\"]\n",
    "matchORB = df_matching_raw[df_matching_raw['Detector'] == \"ORB\"]\n",
    "matchSHITOMASI = df_matching_raw[df_matching_raw['Detector'] == \"SHITOMASI\"]\n",
    "matchSIFT = df_matching_raw[df_matching_raw['Detector'] == \"SIFT\"]\n",
    "\n",
    "matchAKAZE.head(5)"
   ]
  },
  {
   "cell_type": "code",
   "execution_count": 14,
   "id": "boring-skill",
   "metadata": {},
   "outputs": [],
   "source": [
    "## In order to make easie the visualisation, lets split de Dataframe for each \n",
    "#Detector dataset to check the results for the combination of the descriptors features.\n",
    "fmatchAKAZE = matchAKAZE[[\"Detector\",\"Descriptor\",\"Matched\",\"time\"]]\n",
    "fmatchBRISK = matchBRISK[[\"Detector\",\"Descriptor\",\"Matched\",\"time\"]]\n",
    "fmatchFAST = matchFAST[[\"Detector\",\"Descriptor\",\"Matched\",\"time\"]]\n",
    "fmatchHARRIS = matchHARRIS [[\"Detector\",\"Descriptor\",\"Matched\",\"time\"]]\n",
    "fmatchORB = matchORB[[\"Detector\",\"Descriptor\",\"Matched\",\"time\"]]\n",
    "fmatchSHITOMASI = matchSHITOMASI[[\"Detector\",\"Descriptor\",\"Matched\",\"time\"]]\n",
    "fmatchSIFT = matchSIFT[[\"Detector\",\"Descriptor\",\"Matched\",\"time\"]]\n",
    "\n",
    "fmatchAKAZE = fmatchAKAZE.groupby([\"Detector\",\"Descriptor\"])[\"Matched\",\"time\"].mean()\n",
    "fmatchAKAZE[\"Matched\"]=fmatchAKAZE[\"Matched\"].astype(int)\n",
    "fmatchBRISK = fmatchBRISK.groupby([\"Detector\",\"Descriptor\"])[\"Matched\",\"time\"].mean()\n",
    "fmatchBRISK[\"Matched\"]=fmatchBRISK[\"Matched\"].astype(int)\n",
    "fmatchFAST = fmatchFAST.groupby([\"Detector\",\"Descriptor\"])[\"Matched\",\"time\"].mean()\n",
    "fmatchFAST[\"Matched\"]=fmatchFAST[\"Matched\"].astype(int)\n",
    "fmatchHARRIS = fmatchHARRIS.groupby([\"Detector\",\"Descriptor\"])[\"Matched\",\"time\"].mean()\n",
    "fmatchHARRIS[\"Matched\"]=fmatchHARRIS[\"Matched\"].astype(int)\n",
    "fmatchORB = fmatchORB.groupby([\"Detector\",\"Descriptor\"])[\"Matched\",\"time\"].mean()\n",
    "fmatchORB[\"Matched\"]=fmatchORB[\"Matched\"].astype(int)\n",
    "fmatchSHITOMASI = fmatchSHITOMASI.groupby([\"Detector\",\"Descriptor\"])[\"Matched\",\"time\"].mean()\n",
    "fmatchSHITOMASI[\"Matched\"]=fmatchSHITOMASI[\"Matched\"].astype(int)\n",
    "fmatchSIFT = fmatchSIFT.groupby([\"Detector\",\"Descriptor\"])[\"Matched\",\"time\"].mean()\n",
    "fmatchSIFT[\"Matched\"]=fmatchSIFT[\"Matched\"].astype(int)"
   ]
  },
  {
   "cell_type": "code",
   "execution_count": 15,
   "id": "detected-track",
   "metadata": {},
   "outputs": [
    {
     "name": "stdout",
     "output_type": "stream",
     "text": [
      "|                    |  Matched  |  time   |\n",
      "|:-------------------|:---------:|:-------:|\n",
      "| ('AKAZE', 'AKAZE') |    139    | 236.069 |\n",
      "| ('AKAZE', 'BRIEF') |    140    | 130.101 |\n",
      "| ('AKAZE', 'BRISK') |    135    | 131.945 |\n",
      "| ('AKAZE', 'FREAK') |    131    | 182.407 |\n",
      "| ('AKAZE', 'ORB')   |    131    | 132.112 |\n",
      "| ('AKAZE', 'SIFT')  |    141    | 174.808 |\n",
      "\n",
      "|                    |  Matched  |  time   |\n",
      "|:-------------------|:---------:|:-------:|\n",
      "| ('BRISK', 'BRIEF') |    189    | 51.2361 |\n",
      "| ('BRISK', 'BRISK') |    174    | 53.7704 |\n",
      "| ('BRISK', 'FREAK') |    169    | 101.149 |\n",
      "| ('BRISK', 'ORB')   |    168    | 54.9815 |\n",
      "| ('BRISK', 'SIFT')  |    182    | 127.206 |\n",
      "\n",
      "|                   |  Matched  |  time   |\n",
      "|:------------------|:---------:|:-------:|\n",
      "| ('FAST', 'BRIEF') |    122    | 2.6383  |\n",
      "| ('FAST', 'BRISK') |    99     | 3.87659 |\n",
      "| ('FAST', 'FREAK') |    97     | 50.5926 |\n",
      "| ('FAST', 'ORB')   |    119    | 2.94983 |\n",
      "| ('FAST', 'SIFT')  |    116    | 36.4681 |\n",
      "\n",
      "|                     |  Matched  |  time   |\n",
      "|:--------------------|:---------:|:-------:|\n",
      "| ('HARRIS', 'BRIEF') |    19     | 20.2939 |\n",
      "| ('HARRIS', 'BRISK') |    15     | 20.5106 |\n",
      "| ('HARRIS', 'FREAK') |    15     | 68.2798 |\n",
      "| ('HARRIS', 'ORB')   |    17     | 20.7489 |\n",
      "| ('HARRIS', 'SIFT')  |    18     | 37.7643 |\n",
      "\n",
      "|                  |  Matched  |  time   |\n",
      "|:-----------------|:---------:|:-------:|\n",
      "| ('ORB', 'BRIEF') |    60     | 9.18033 |\n",
      "| ('ORB', 'BRISK') |    83     | 10.2213 |\n",
      "| ('ORB', 'FREAK') |    46     | 57.4886 |\n",
      "| ('ORB', 'ORB')   |    84     | 14.2491 |\n",
      "| ('ORB', 'SIFT')  |    84     | 98.0274 |\n",
      "\n",
      "|                        |  Matched  |  time   |\n",
      "|:-----------------------|:---------:|:-------:|\n",
      "| ('SHITOMASI', 'BRIEF') |    104    | 20.5507 |\n",
      "| ('SHITOMASI', 'BRISK') |    85     | 21.4426 |\n",
      "| ('SHITOMASI', 'FREAK') |    85     | 69.4351 |\n",
      "| ('SHITOMASI', 'ORB')   |    100    | 20.8391 |\n",
      "| ('SHITOMASI', 'SIFT')  |    103    | 40.344  |\n",
      "\n",
      "|                   |  Matched  |  time   |\n",
      "|:------------------|:---------:|:-------:|\n",
      "| ('SIFT', 'BRIEF') |    78     | 177.52  |\n",
      "| ('SIFT', 'BRISK') |    65     | 178.539 |\n",
      "| ('SIFT', 'FREAK') |    65     | 228.678 |\n",
      "| ('SIFT', 'SIFT')  |    88     | 310.648 |\n"
     ]
    }
   ],
   "source": [
    "print(tabulate(fmatchAKAZE, tablefmt=\"pipe\", headers=\"keys\",numalign=\"center\"))\n",
    "print(\"\")\n",
    "print(tabulate(fmatchBRISK, tablefmt=\"pipe\", headers=\"keys\",numalign=\"center\"))\n",
    "print(\"\")\n",
    "print(tabulate(fmatchFAST, tablefmt=\"pipe\", headers=\"keys\",numalign=\"center\"))\n",
    "print(\"\")\n",
    "print(tabulate(fmatchHARRIS, tablefmt=\"pipe\", headers=\"keys\",numalign=\"center\"))\n",
    "print(\"\")\n",
    "print(tabulate(fmatchORB, tablefmt=\"pipe\", headers=\"keys\",numalign=\"center\"))\n",
    "print(\"\")\n",
    "print(tabulate(fmatchSHITOMASI , tablefmt=\"pipe\", headers=\"keys\",numalign=\"center\"))\n",
    "print(\"\")\n",
    "print(tabulate(fmatchSIFT, tablefmt=\"pipe\", headers=\"keys\",numalign=\"center\"))"
   ]
  },
  {
   "cell_type": "markdown",
   "id": "needed-jackson",
   "metadata": {},
   "source": [
    "The next evaluation will show 2 plottings. the first one(top), show all descritor behavior and the other (bottom) is limited the y vector scale to check with more precision the best Descriptor feature regard matching points between the scenes."
   ]
  },
  {
   "cell_type": "markdown",
   "id": "mexican-intensity",
   "metadata": {},
   "source": [
    "## AKASE Detector + Different Descriptors"
   ]
  },
  {
   "cell_type": "code",
   "execution_count": null,
   "id": "excessive-preservation",
   "metadata": {},
   "outputs": [],
   "source": [
    "##Scatter Plotting to show the distribution points over AKAZE detector and dfferent\n",
    "#descriptors types evaluated\n",
    "\n",
    "fig, (ax1,ax2) = plt.subplots(2, figsize=(12,8))\n",
    "colors = ['b','g', 'r','c','m','y']\n",
    "markers = ['P','v', 's','p','d','X']\n",
    "counter = 0\n",
    "for key, grp in matchAKAZE.groupby([\"Detector\",\"Descriptor\"]):\n",
    "    ax1.scatter(grp[\"Matched\"], grp[\"time\"], label=key ,color= colors[counter],marker= markers[counter])\n",
    "\n",
    "    ax2.scatter(grp[\"Matched\"], grp[\"time\"], label=key ,color= colors[counter],marker= markers[counter])\n",
    "    counter +=1\n",
    "    \n",
    "\n",
    "ax1.set_xlabel('Matched Detected',fontsize=12)\n",
    "ax1.set_ylabel('Time elapsed [ms]', fontsize=12)\n",
    "ax1.set_title('Comparison of Keypoins and elapsed time for the AKAZE Detector and different  Descriptors type ')\n",
    "ax1.legend(loc='center', bbox_to_anchor=(0.5,-0.28),ncol=3, fancybox=True, shadow=True ,labelspacing=0.7)\n",
    "\n",
    "ax2.set_xlabel('Matched Detected',fontsize=12)\n",
    "ax2.set_ylabel('Time elapsed [ms]', fontsize=12)\n",
    "ax2.set_ylim(120,140)\n",
    "ax2.legend(loc='center', bbox_to_anchor=(0.5,-0.28),ncol=3, fancybox=True, shadow=True ,labelspacing=0.7)\n",
    "\n",
    "plt.show()"
   ]
  },
  {
   "cell_type": "markdown",
   "id": "secret-prince",
   "metadata": {},
   "source": [
    "## BRISK Detector + Different Descriptors"
   ]
  },
  {
   "cell_type": "code",
   "execution_count": null,
   "id": "norwegian-leeds",
   "metadata": {},
   "outputs": [],
   "source": [
    "##Scatter Plotting to show the distribution points over BRISK detector and dfferent\n",
    "#descriptors types evaluated\n",
    "\n",
    "fig, (ax1,ax2) = plt.subplots(2, figsize=(12,8))\n",
    "colors = ['b','g', 'r','c','m','y']\n",
    "markers = ['P','v', 's','p','d','X']\n",
    "counter = 0\n",
    "for key, grp in matchBRISK.groupby([\"Detector\",\"Descriptor\"]):\n",
    "    ax1.scatter(grp[\"Matched\"], grp[\"time\"], label=key ,color= colors[counter],marker= markers[counter])\n",
    "\n",
    "    ax2.scatter(grp[\"Matched\"], grp[\"time\"], label=key ,color= colors[counter],marker= markers[counter])\n",
    "    counter +=1\n",
    "    \n",
    "\n",
    "ax1.set_xlabel('Matched Detected',fontsize=12)\n",
    "ax1.set_ylabel('Time elapsed [ms]', fontsize=12)\n",
    "ax1.set_title('Comparison of Keypoins and elapsed time for the BRISK Detector and different  Descriptors type ')\n",
    "ax1.legend(loc='center', bbox_to_anchor=(0.5,-0.28),ncol=3, fancybox=True, shadow=True ,labelspacing=0.7)\n",
    "\n",
    "ax2.set_xlabel('Matched Detected',fontsize=12)\n",
    "ax2.set_ylabel('Time elapsed [ms]', fontsize=12)\n",
    "ax2.set_ylim(50,60)\n",
    "ax2.legend(loc='center', bbox_to_anchor=(0.5,-0.28),ncol=3, fancybox=True, shadow=True ,labelspacing=0.7)\n",
    "plt.savefig('images/Det_BRISK_Descriptor_evaluation.png')\n",
    "plt.show()"
   ]
  },
  {
   "cell_type": "markdown",
   "id": "universal-berry",
   "metadata": {},
   "source": [
    "## FAST Detector + Different Descriptors"
   ]
  },
  {
   "cell_type": "code",
   "execution_count": null,
   "id": "classical-iceland",
   "metadata": {},
   "outputs": [],
   "source": [
    "##Scatter Plotting to show the distribution points over FAST detector and dfferent\n",
    "#descriptors types evaluated\n",
    "\n",
    "fig, (ax1,ax2) = plt.subplots(2, figsize=(12,8))\n",
    "colors = ['b','g', 'r','c','m','y']\n",
    "markers = ['P','v', 's','p','d','X']\n",
    "counter = 0\n",
    "for key, grp in matchFAST.groupby([\"Detector\",\"Descriptor\"]):\n",
    "    ax1.scatter(grp[\"Matched\"], grp[\"time\"], label=key ,color= colors[counter],marker= markers[counter])\n",
    "\n",
    "    ax2.scatter(grp[\"Matched\"], grp[\"time\"], label=key ,color= colors[counter],marker= markers[counter])\n",
    "    counter +=1\n",
    "    \n",
    "\n",
    "ax1.set_xlabel('Matched Detected',fontsize=12)\n",
    "ax1.set_ylabel('Time elapsed [ms]', fontsize=12)\n",
    "ax1.set_title('Comparison of Keypoins and elapsed time for the FAST Detector and different  Descriptors type ')\n",
    "ax1.legend(loc='center', bbox_to_anchor=(0.5,-0.28),ncol=3, fancybox=True, shadow=True ,labelspacing=0.7)\n",
    "\n",
    "ax2.set_xlabel('Matched Detected',fontsize=12)\n",
    "ax2.set_ylabel('Time elapsed [ms]', fontsize=12)\n",
    "ax2.set_ylim(0,10)\n",
    "ax2.legend(loc='center', bbox_to_anchor=(0.5,-0.28),ncol=3, fancybox=True, shadow=True ,labelspacing=0.7)\n",
    "plt.show()"
   ]
  },
  {
   "cell_type": "markdown",
   "id": "unauthorized-programming",
   "metadata": {},
   "source": [
    "## HARRIS Detector + Different Descriptors"
   ]
  },
  {
   "cell_type": "code",
   "execution_count": null,
   "id": "southwest-airline",
   "metadata": {},
   "outputs": [],
   "source": [
    "##Scatter Plotting to show the distribution points over HARRIS detector and dfferent\n",
    "#descriptors types evaluated\n",
    "\n",
    "fig, (ax1,ax2) = plt.subplots(2, figsize=(12,8))\n",
    "colors = ['b','g', 'r','c','m','y']\n",
    "markers = ['P','v', 's','p','d','X']\n",
    "counter = 0\n",
    "for key, grp in matchHARRIS.groupby([\"Detector\",\"Descriptor\"]):\n",
    "    ax1.scatter(grp[\"Matched\"], grp[\"time\"], label=key ,color= colors[counter],marker= markers[counter])\n",
    "\n",
    "    ax2.scatter(grp[\"Matched\"], grp[\"time\"], label=key ,color= colors[counter],marker= markers[counter])\n",
    "    counter +=1\n",
    "    \n",
    "\n",
    "ax1.set_xlabel('Matched Detected',fontsize=12)\n",
    "ax1.set_ylabel('Time elapsed [ms]', fontsize=12)\n",
    "ax1.set_title('Comparison of Keypoins and elapsed time for the HARRIS Detector and different  Descriptors type ')\n",
    "ax1.legend(loc='center', bbox_to_anchor=(0.5,-0.28),ncol=3, fancybox=True, shadow=True ,labelspacing=0.7)\n",
    "\n",
    "ax2.set_xlabel('Matched Detected',fontsize=12)\n",
    "ax2.set_ylabel('Time elapsed [ms]', fontsize=12)\n",
    "ax2.set_ylim(10,20)\n",
    "ax2.legend(loc='center', bbox_to_anchor=(0.5,-0.28),ncol=3, fancybox=True, shadow=True ,labelspacing=0.7)\n",
    "plt.show()"
   ]
  },
  {
   "cell_type": "markdown",
   "id": "prescription-layer",
   "metadata": {},
   "source": [
    "## ORB Detector + Different Descriptors"
   ]
  },
  {
   "cell_type": "code",
   "execution_count": null,
   "id": "coral-canada",
   "metadata": {},
   "outputs": [],
   "source": [
    "##Scatter Plotting to show the distribution points over ORB detector and dfferent\n",
    "#descriptors types evaluated\n",
    "\n",
    "fig, (ax1,ax2) = plt.subplots(2, figsize=(12,8))\n",
    "colors = ['b','g', 'r','c','m','y']\n",
    "markers = ['P','v', 's','p','d','X']\n",
    "counter = 0\n",
    "for key, grp in matchORB.groupby([\"Detector\",\"Descriptor\"]):\n",
    "    ax1.scatter(grp[\"Matched\"], grp[\"time\"], label=key ,color= colors[counter],marker= markers[counter])\n",
    "\n",
    "    ax2.scatter(grp[\"Matched\"], grp[\"time\"], label=key ,color= colors[counter],marker= markers[counter])\n",
    "    counter +=1\n",
    "    \n",
    "\n",
    "ax1.set_xlabel('Matched Detected',fontsize=12)\n",
    "ax1.set_ylabel('Time elapsed [ms]', fontsize=12)\n",
    "ax1.set_title('Comparison of Keypoins and elapsed time for the ORB Detector and different  Descriptors type ')\n",
    "ax1.legend(loc='center', bbox_to_anchor=(0.5,-0.28),ncol=3, fancybox=True, shadow=True ,labelspacing=0.7)\n",
    "\n",
    "ax2.set_xlabel('Matched Detected',fontsize=12)\n",
    "ax2.set_ylabel('Time elapsed [ms]', fontsize=12)\n",
    "ax2.set_ylim(5,15)\n",
    "ax2.legend(loc='center', bbox_to_anchor=(0.5,-0.28),ncol=3, fancybox=True, shadow=True ,labelspacing=0.7)\n",
    "plt.savefig('images/Det_ORB_Descriptor_evaluation.png')\n",
    "plt.show()"
   ]
  },
  {
   "cell_type": "markdown",
   "id": "critical-essay",
   "metadata": {},
   "source": [
    "## SHITOMASI Detector + Different Descriptors"
   ]
  },
  {
   "cell_type": "code",
   "execution_count": null,
   "id": "harmful-channels",
   "metadata": {},
   "outputs": [],
   "source": [
    "##Scatter Plotting to show the distribution points over SHITOMASI detector and dfferent\n",
    "#descriptors types evaluated\n",
    "\n",
    "fig, (ax1,ax2) = plt.subplots(2, figsize=(12,8))\n",
    "colors = ['b','g', 'r','c','m','y']\n",
    "markers = ['P','v', 's','p','d','X']\n",
    "counter = 0\n",
    "for key, grp in matchSHITOMASI.groupby([\"Detector\",\"Descriptor\"]):\n",
    "    ax1.scatter(grp[\"Matched\"], grp[\"time\"], label=key ,color= colors[counter],marker= markers[counter])\n",
    "\n",
    "    ax2.scatter(grp[\"Matched\"], grp[\"time\"], label=key ,color= colors[counter],marker= markers[counter])\n",
    "    counter +=1\n",
    "    \n",
    "\n",
    "ax1.set_xlabel('Matched Detected',fontsize=12)\n",
    "ax1.set_ylabel('Time elapsed [ms]', fontsize=12)\n",
    "ax1.set_title('Comparison of Keypoins and elapsed time for the SHITOMASI Detector and different  Descriptors type ')\n",
    "ax1.legend(loc='center', bbox_to_anchor=(0.5,-0.28),ncol=3, fancybox=True, shadow=True ,labelspacing=0.7)\n",
    "\n",
    "ax2.set_xlabel('Matched Detected',fontsize=12)\n",
    "ax2.set_ylabel('Time elapsed [ms]', fontsize=12)\n",
    "ax2.set_ylim(15,25)\n",
    "ax2.legend(loc='center', bbox_to_anchor=(0.5,-0.28),ncol=3, fancybox=True, shadow=True ,labelspacing=0.7)\n",
    "plt.show()"
   ]
  },
  {
   "cell_type": "markdown",
   "id": "breeding-accused",
   "metadata": {},
   "source": [
    "## SIFT Detector + Different Descriptors"
   ]
  },
  {
   "cell_type": "code",
   "execution_count": null,
   "id": "accepting-essex",
   "metadata": {},
   "outputs": [],
   "source": [
    "##Scatter Plotting to show the distribution points over SIFT detector and dfferent\n",
    "#descriptors types evaluated\n",
    "\n",
    "fig, (ax1,ax2) = plt.subplots(2, figsize=(12,8))\n",
    "colors = ['b','g', 'r','c','m','y']\n",
    "markers = ['P','v', 's','p','d','X']\n",
    "counter = 0\n",
    "for key, grp in matchSIFT.groupby([\"Detector\",\"Descriptor\"]):\n",
    "    ax1.scatter(grp[\"Matched\"], grp[\"time\"], label=key ,color= colors[counter],marker= markers[counter])\n",
    "\n",
    "    ax2.scatter(grp[\"Matched\"], grp[\"time\"], label=key ,color= colors[counter],marker= markers[counter])\n",
    "    counter +=1\n",
    "    \n",
    "\n",
    "ax1.set_xlabel('Matched Detected',fontsize=12)\n",
    "ax1.set_ylabel('Time elapsed [ms]', fontsize=12)\n",
    "ax1.set_title('Comparison of Keypoins and elapsed time for the SIFT Detector and different  Descriptors type ')\n",
    "ax1.legend(loc='center', bbox_to_anchor=(0.5,-0.28),ncol=3, fancybox=True, shadow=True ,labelspacing=0.7)\n",
    "\n",
    "ax2.set_xlabel('Matched Detected',fontsize=12)\n",
    "ax2.set_ylabel('Time elapsed [ms]', fontsize=12)\n",
    "ax2.set_ylim(160,190)\n",
    "ax2.legend(loc='center', bbox_to_anchor=(0.5,-0.28),ncol=3, fancybox=True, shadow=True ,labelspacing=0.7)\n",
    "plt.show()"
   ]
  },
  {
   "cell_type": "markdown",
   "id": "private-arrival",
   "metadata": {},
   "source": [
    "The BRIEF feature had calculated the matching descriptor between the scenes with the lowest elapsed time.\n",
    "So lets compare all the matching Detectors together with only the BRIEF descriptor feature."
   ]
  },
  {
   "cell_type": "code",
   "execution_count": null,
   "id": "weekly-topic",
   "metadata": {},
   "outputs": [],
   "source": [
    "match_desc_BRIEF = df_matching_raw[df_matching_raw['Descriptor'] == \"BRIEF\"]"
   ]
  },
  {
   "cell_type": "code",
   "execution_count": null,
   "id": "dietary-stanley",
   "metadata": {},
   "outputs": [],
   "source": [
    "match_desc_BRIEF.head(5)"
   ]
  },
  {
   "cell_type": "code",
   "execution_count": null,
   "id": "wound-memphis",
   "metadata": {},
   "outputs": [],
   "source": [
    "##Scatter Plotting to show the distribution points over all detectors types evaluated\n",
    "\n",
    "colors = ['b','g', 'r','c','m','y','gray']\n",
    "markers = ['o','v', 's','p','d','X','P']\n",
    "counter =0\n",
    "\n",
    "fig, ax = plt.subplots(figsize=(12,10))\n",
    "for key, grp in match_desc_BRIEF.groupby(['Detector']):\n",
    "    ax.scatter(grp[\"Matched\"], grp[\"time\"], label=key ,color= colors[counter],marker= markers[counter])\n",
    "    counter +=1\n",
    "ax.legend()\n",
    "ax.set_xlabel('Matching Detected',fontsize=15)\n",
    "ax.set_ylabel('time elapsed', fontsize=15)\n",
    "ax.set_title('Comparison of Keypoins and elapsed time for each Detector type with BRIEF descriptor fixed',fontsize=15)\n",
    "ax.legend( fancybox=True, shadow=True ,labelspacing=0.7, fontsize=15)\n",
    "\n",
    "plt.savefig('images/Det_ORB_Descriptor_evaluation.png')\n",
    "plt.show()"
   ]
  },
  {
   "cell_type": "markdown",
   "id": "interracial-romance",
   "metadata": {},
   "source": [
    "## Conclusion"
   ]
  },
  {
   "cell_type": "markdown",
   "id": "stretch-blame",
   "metadata": {},
   "source": [
    "The BRIEF descriptor feature shows the best choice for all combined Detectors regard matching points between the scenes.\n",
    "On the last plot we can see that ,the combined BRISK+BRIEF has the most number of matching points detected on de preceding vehicle and the processing time is something around 50 mili seconds maximum.\n",
    "Depends of the application this combination could be chosen, but we have a group of combinations that are capable to matching the descriptor points under the 25 millisecond. If the application request a high frequency to read the data and this quantity of the mathing points is enough sufficient, The combination of FAST+BRIEF could be chosen. \n",
    "The results of AKAZE+BRIEF and SIFT +BRIEF must be avoided because the elapsed time necessary is to large comparing with others and HARRIS + BRIEF also must be avoided, it has a good performance regard time , but the number of matching points is very small."
   ]
  }
 ],
 "metadata": {
  "kernelspec": {
   "display_name": "Python 3",
   "language": "python",
   "name": "python3"
  },
  "language_info": {
   "codemirror_mode": {
    "name": "ipython",
    "version": 3
   },
   "file_extension": ".py",
   "mimetype": "text/x-python",
   "name": "python",
   "nbconvert_exporter": "python",
   "pygments_lexer": "ipython3",
   "version": "3.6.9"
  }
 },
 "nbformat": 4,
 "nbformat_minor": 5
}
